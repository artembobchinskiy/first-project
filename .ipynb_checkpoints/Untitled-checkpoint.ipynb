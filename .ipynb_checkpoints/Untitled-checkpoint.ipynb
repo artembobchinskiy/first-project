{
 "cells": [
  {
   "cell_type": "markdown",
   "id": "701cd902-a76a-42fb-af70-3739f18b5418",
   "metadata": {},
   "source": [
    "Привет!"
   ]
  },
  {
   "cell_type": "markdown",
   "id": "d261eb59-dc70-429c-bcdd-6a5b890bfd30",
   "metadata": {},
   "source": [
    "Как дела?"
   ]
  },
  {
   "cell_type": "markdown",
   "id": "1b812676-32c6-41c9-be2e-a50e2af32546",
   "metadata": {},
   "source": [
    "Ещё раз привет! И ещё раз как дела?"
   ]
  },
  {
   "cell_type": "code",
   "execution_count": null,
   "id": "69f90a05-f14b-4ac4-837b-7a123517ad92",
   "metadata": {},
   "outputs": [],
   "source": []
  }
 ],
 "metadata": {
  "kernelspec": {
   "display_name": "Python 3 (ipykernel)",
   "language": "python",
   "name": "python3"
  },
  "language_info": {
   "codemirror_mode": {
    "name": "ipython",
    "version": 3
   },
   "file_extension": ".py",
   "mimetype": "text/x-python",
   "name": "python",
   "nbconvert_exporter": "python",
   "pygments_lexer": "ipython3",
   "version": "3.11.7"
  }
 },
 "nbformat": 4,
 "nbformat_minor": 5
}
